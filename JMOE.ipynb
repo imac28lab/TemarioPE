{
 "cells": [
  {
   "cell_type": "code",
   "execution_count": 4,
   "id": "afa479b3-bd7e-4cc7-b27d-e853992a99be",
   "metadata": {},
   "outputs": [],
   "source": [
    "import codigo_base.chavez as c\n",
    "import codigo_base.fr as fr\n",
    "import codigo_base.fa as fa\n",
    "import codigo_base.chema as che\n",
    "import codigo_base.escamilla as esc\n",
    "import codigo_base.isai as i\n",
    "\n",
    "import codigo_base.jose as j\n",
    "import codigo_base.gustavo as g\n",
    "import codigo_base.milagros as m\n",
    "import codigo_base.rosario as r\n",
    "import codigo_base.formatear_tabla as ft\n",
    "import codigo_base.lopez as p\n",
    "import codigo_base.ortiz as o\n",
    "import codigo_base.falcon as f\n",
    "\n",
    "# Graficas\n",
    "import codigo_base.reyes as re\n",
    "import codigo_base.montaño as me\n",
    "import codigo_base.caracas as ca\n",
    "import codigo_base.paz as pa\n",
    "import codigo_base.atanacio as at\n"
   ]
  }
 ],
 "metadata": {
  "kernelspec": {
   "display_name": "Python 3 (ipykernel)",
   "language": "python",
   "name": "python3"
  },
  "language_info": {
   "codemirror_mode": {
    "name": "ipython",
    "version": 3
   },
   "file_extension": ".py",
   "mimetype": "text/x-python",
   "name": "python",
   "nbconvert_exporter": "python",
   "pygments_lexer": "ipython3",
   "version": "3.11.4"
  }
 },
 "nbformat": 4,
 "nbformat_minor": 5
}
