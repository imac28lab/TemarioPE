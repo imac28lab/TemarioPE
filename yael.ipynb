{
 "cells": [
  {
   "cell_type": "code",
   "execution_count": 1,
   "id": "6ce9a4eb-a607-4de5-a2b6-88776c0eb44b",
   "metadata": {},
   "outputs": [],
   "source": [
    "import codigo_base.jose as j\n",
    "import codigo_base.gustavo as g\n",
    "import codigo_base.milagros as m\n",
    "import codigo_base.rosario as r\n",
    "import codigo_base.isai as i\n",
    "import codigo_base.formatear_tabla as ft\n",
    "\n",
    "# Graficas\n",
    "import codigo_base.reyes as re\n",
    "import codigo_base.montaño as me\n",
    "import codigo_base.caracas as ca\n",
    "import codigo_base.paz as pa\n",
    "import codigo_base.atanacio as at"
   ]
  },
  {
   "cell_type": "code",
   "execution_count": 2,
   "id": "a0e2512d-d20b-4df3-94cc-0b47393938c8",
   "metadata": {},
   "outputs": [
    {
     "name": "stdout",
     "output_type": "stream",
     "text": [
      "   Clases  F absoluta  F relativa  F acumulada\n",
      "0       1           2    6.666667     6.666667\n",
      "1       2           4   13.333333    20.000000\n",
      "2       3           6   20.000000    40.000000\n",
      "3       4           8   26.666667    66.666667\n",
      "4       5          10   33.333333   100.000000\n"
     ]
    }
   ],
   "source": [
    "# Arreglo a usar\n",
    "datos_entrada = [1, 2, 2, 3, 3, 3, 4, 4, 4, 4, 5, 5, 5, 5, 5, 5, 5, 5, 5, 5, 4, 4, 4, 4, 3, 3, 3, 2, 2, 1]\n",
    "\n",
    "#datos_entrada = 2, 4, 2, 5, 6, 3, 9, -1, -4, 5, -3\n",
    "#datos_entrada = 2, 4, 2, 5, 6, 3, 9, -1, -4, 5, -3\n",
    "\n",
    "clases, fa_absoluta = r.frec_abs(datos_entrada)  #Calcula las clases unicas asi como su F_absoluta\n",
    "\n",
    "clases_sorted = i.ordenar_asc(clases) #Ordena las clases por de mayor a menor\n",
    "\n",
    "fa_sorted = m.sort_clases_fa(clases, clases_sorted, fa_absoluta) #Ordena las F_absolutas\n",
    "\n",
    "fr_relativa =  g.frecuencia_rel(fa_sorted) #Ordena las F_relativas\n",
    "\n",
    "fr_acum = j.calcular_frecuencia_a(fr_relativa) #Ordena las F_acomuladas\n",
    "\n",
    "tabla = ft.imptabla(clases_sorted, fa_sorted, fr_relativa, fr_acum) #Ordena los datos en una tabla\n",
    "\n",
    "print (tabla) #Imprime la tabla"
   ]
  }
 ],
 "metadata": {
  "kernelspec": {
   "display_name": "Python 3 (ipykernel)",
   "language": "python",
   "name": "python3"
  },
  "language_info": {
   "codemirror_mode": {
    "name": "ipython",
    "version": 3
   },
   "file_extension": ".py",
   "mimetype": "text/x-python",
   "name": "python",
   "nbconvert_exporter": "python",
   "pygments_lexer": "ipython3",
   "version": "3.11.4"
  }
 },
 "nbformat": 4,
 "nbformat_minor": 5
}
